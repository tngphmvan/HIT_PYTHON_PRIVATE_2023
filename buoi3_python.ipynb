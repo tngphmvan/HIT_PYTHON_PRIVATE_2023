{
  "nbformat": 4,
  "nbformat_minor": 0,
  "metadata": {
    "colab": {
      "provenance": [],
      "authorship_tag": "ABX9TyPhWc+MyCXlHaEuy+2gZosP",
      "include_colab_link": true
    },
    "kernelspec": {
      "name": "python3",
      "display_name": "Python 3"
    },
    "language_info": {
      "name": "python"
    }
  },
  "cells": [
    {
      "cell_type": "markdown",
      "metadata": {
        "id": "view-in-github",
        "colab_type": "text"
      },
      "source": [
        "<a href=\"https://colab.research.google.com/github/tngphmvan/HIT_PYTHON_PRIVATE_2023/blob/main/buoi3_python.ipynb\" target=\"_parent\"><img src=\"https://colab.research.google.com/assets/colab-badge.svg\" alt=\"Open In Colab\"/></a>"
      ]
    },
    {
      "cell_type": "markdown",
      "source": [
        "- mutable and emutable\n",
        "  + list,dict,set"
      ],
      "metadata": {
        "id": "U41ryFPf13ox"
      }
    },
    {
      "cell_type": "code",
      "source": [
        "lst=[1,2,3] #cap 1 o nho\n",
        "lst1=[1,2,3] #cap 1 o nho khac\n",
        "lst2=lst #lst2 tro ve cung o nho voi lst\n",
        "lst[1]=4 #lst2 se thay doi"
      ],
      "metadata": {
        "id": "j3_h_Spr2Wse"
      },
      "execution_count": null,
      "outputs": []
    },
    {
      "cell_type": "code",
      "source": [
        "a=4\n",
        "b=4\n",
        "print(a is b) #duoc\n",
        "print(4 is 4) #khong duoc"
      ],
      "metadata": {
        "id": "2AkDYTFg5i30"
      },
      "execution_count": null,
      "outputs": []
    },
    {
      "cell_type": "markdown",
      "source": [
        "* imutable a=4, b=4\n",
        "\n",
        "  a=5 tra ra true\n",
        "\n",
        "  a is b cung tra ra true\n",
        "\n",
        "Chu y :\n",
        "\n",
        "- is so sanh ca id va gia tri\n",
        "- == chi so sanh gia tri"
      ],
      "metadata": {
        "id": "OK9f06jy58IF"
      }
    },
    {
      "cell_type": "code",
      "source": [
        "#mutable\n",
        "lst=[1,2,3]\n",
        "lst1=[1,2,3]\n",
        "print(lst==lst1)\n",
        "print(lst is lst1)"
      ],
      "metadata": {
        "colab": {
          "base_uri": "https://localhost:8080/"
        },
        "id": "AJRX2PKa6r1c",
        "outputId": "0ba98e30-3b7a-410f-b223-a3cd603d2442"
      },
      "execution_count": 4,
      "outputs": [
        {
          "output_type": "stream",
          "name": "stdout",
          "text": [
            "True\n",
            "False\n"
          ]
        }
      ]
    },
    {
      "cell_type": "markdown",
      "source": [
        "luu y lenh 'pass'"
      ],
      "metadata": {
        "id": "dKfsi3xv9-vh"
      }
    },
    {
      "cell_type": "code",
      "source": [
        "val = 0\n",
        "for val in range(0,10):\n",
        "  pass #lenh trong"
      ],
      "metadata": {
        "id": "ZCeUYxHZ-B_n"
      },
      "execution_count": 7,
      "outputs": []
    },
    {
      "cell_type": "markdown",
      "source": [
        "enumerate\n",
        "\n",
        "zip(*iterable) là nén các giá trị iterable vào thành 1 biến tương tự như việc nén file.zip"
      ],
      "metadata": {
        "id": "ZojpH0Yn-QX5"
      }
    }
  ]
}