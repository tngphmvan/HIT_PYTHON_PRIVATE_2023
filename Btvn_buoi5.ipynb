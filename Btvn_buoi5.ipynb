{
  "nbformat": 4,
  "nbformat_minor": 0,
  "metadata": {
    "colab": {
      "provenance": [],
      "authorship_tag": "ABX9TyPd5xjyaRiHlLexGV6Hwl85",
      "include_colab_link": true
    },
    "kernelspec": {
      "name": "python3",
      "display_name": "Python 3"
    },
    "language_info": {
      "name": "python"
    }
  },
  "cells": [
    {
      "cell_type": "markdown",
      "metadata": {
        "id": "view-in-github",
        "colab_type": "text"
      },
      "source": [
        "<a href=\"https://colab.research.google.com/github/tngphmvan/HIT_PYTHON_PRIVATE_2023/blob/main/Btvn_buoi5.ipynb\" target=\"_parent\"><img src=\"https://colab.research.google.com/assets/colab-badge.svg\" alt=\"Open In Colab\"/></a>"
      ]
    },
    {
      "cell_type": "code",
      "execution_count": null,
      "metadata": {
        "id": "ixZzvUpOb9ln"
      },
      "outputs": [],
      "source": [
        "#Bai 1\n",
        "set1 = set(input().split())\n",
        "set2 = set(input().split())\n",
        "\n",
        "if set1&set2 == set():\n",
        "  print(\"Khong co sv dk ca 2 ban\")\n",
        "else:\n",
        "  print(f\"sv dk ca 2 ban: {set1&set2}\")\n",
        "\n",
        "print(f\"sv da dk: {set1|set2}\")\n",
        "if set1.difference(set2) == set():\n",
        "  print(\"Khong co sv dk o ban 1 ma k dk o ban 2\")\n",
        "else:\n",
        "  print(f\"sv dk o ban 1 ma k dk o ban 2: {set1.difference(set2)}\")\n",
        "if(set1^set2 == set()):\n",
        "  print(\"Khong co sv dk o duy nhat 1 ban\")\n",
        "else:\n",
        "  print(f\"ds sv dang ky duy nhat 1 ban: {set1^set2}\")"
      ]
    },
    {
      "cell_type": "code",
      "source": [
        "#Bai2:\n",
        "\n",
        "inp = set(map(int,input().split()))\n",
        "result = set()\n",
        "sum = 0\n",
        "n = int(input())\n",
        "\n",
        "for i in inp:\n",
        "  if sum+i <= n:\n",
        "    result.add(i)\n",
        "    sum+=i\n",
        "print(result)"
      ],
      "metadata": {
        "id": "NUtR3UnEesBR"
      },
      "execution_count": null,
      "outputs": []
    },
    {
      "cell_type": "code",
      "source": [
        "#Bai3\n",
        "str1 = input()\n",
        "lst = str1.split()\n",
        "cnt = {}\n",
        "max = 0\n",
        "for item in lst:\n",
        "  if item in cnt:\n",
        "    cnt[item] += 1\n",
        "  else:\n",
        "    cnt[item] = 1\n",
        "  if cnt[item]>max:\n",
        "    max = cnt[item]\n",
        "\n",
        "lst1 = []\n",
        "for key, value in cnt.items():\n",
        "  if value == max:\n",
        "    print(f\"((\\'{key}\\', {value}))\",end = \", \")"
      ],
      "metadata": {
        "id": "aoTZQhRRcptH"
      },
      "execution_count": null,
      "outputs": []
    },
    {
      "cell_type": "code",
      "source": [
        "#Bai4:\n",
        "\n",
        "lst = input().split()\n",
        "\n",
        "tpl = tuple(lst)\n",
        "print(tpl)\n",
        "cnt = 0\n",
        "for item in tpl:\n",
        "  if item.isdigit():\n",
        "    cnt+=1\n",
        "print(cnt)"
      ],
      "metadata": {
        "id": "Q6SaqMXmm5ZJ"
      },
      "execution_count": null,
      "outputs": []
    },
    {
      "cell_type": "code",
      "source": [
        "#Bai5:\n",
        "\n",
        "inp = set(map(int,input().split()))\n",
        "if 11 not in inp:\n",
        "  print(\"Not in\")\n",
        "  inp.add(11)\n",
        "  print(inp)\n",
        "else:\n",
        "  print(\"in\")\n",
        "  print(inp)\n",
        "\n",
        "couple = []\n",
        "for num1 in inp:\n",
        "  for num2 in inp:\n",
        "    if num1+num2==11:\n",
        "      couple.append((num1,num2))\n",
        "print(f\"after paired: {tuple(couple)}\")\n",
        "couple_tong = []\n",
        "for num1 in inp:\n",
        "  for num2 in inp:\n",
        "    if num1+num2==11:\n",
        "      couple_tong.append(num1)\n",
        "      couple_tong.append(num2)\n",
        "result = sum(couple_tong)/2\n",
        "print(f\"sum: {result}\")"
      ],
      "metadata": {
        "id": "cFH2uX7uoE-h"
      },
      "execution_count": null,
      "outputs": []
    },
    {
      "cell_type": "code",
      "source": [
        "#Bai6:\n",
        "sv ={\n",
        "    'sv1': 1.8,\n",
        "    'sv2':1.9,\n",
        "    'sv3':2.5,\n",
        "    'sv4':2.6,\n",
        "    'sv5':3.4,\n",
        "    'sv7':3.5,\n",
        "    'sv8':3.6,\n",
        "    'sv9':3.9\n",
        "}\n",
        "print(f\"dict before add: {sv}\")\n",
        "sv['sv11'] = 2.75\n",
        "print(f\"dict after add: {sv}\")\n",
        "cnt = 0\n",
        "\n",
        "for key, value in sv.items():\n",
        "  if value>=2.5 and value<=3.5:\n",
        "    cnt+=1\n",
        "print(f\"there are {cnt} stu [2.5, 3.5]\")\n",
        "\n",
        "newsv={}\n",
        "for key, value in sv.items():\n",
        "  if value >2.0:\n",
        "    newsv[key] = value\n",
        "\n",
        "if newsv == {}:\n",
        "  print(\"No have std <2.0\")\n",
        "else:\n",
        "  print(f\"stu > 2: {newsv}\")"
      ],
      "metadata": {
        "id": "TCh1TUhVr0E8"
      },
      "execution_count": null,
      "outputs": []
    },
    {
      "cell_type": "code",
      "source": [
        "#Bai7:\n",
        "\n",
        "str1 = input()\n",
        "cnt = {}\n",
        "for item in str1:\n",
        "  if item in cnt:\n",
        "    cnt[item] += 1\n",
        "  else:\n",
        "    cnt[item] = 1\n",
        "print(cnt)"
      ],
      "metadata": {
        "id": "jbbHeBFSzILa"
      },
      "execution_count": null,
      "outputs": []
    },
    {
      "cell_type": "code",
      "source": [
        "championLOL = [\"Yasuo\", \"Lee Sin\", \"Zed\", \"Master Yi\", \"Garen\", \"Tryndamere\"]\n",
        "dataLOL = [\n",
        "    {\"price\": 6300, \"Ulti\": \"Trăn trối\"},\n",
        "    {\"price\": 4800, \"Ulti\": \"Nộ Long Cước\"},\n",
        "    {\"price\": 4800, \"Ulti\": \"Dấu Ấn Tử Thần\"},\n",
        "    {\"price\": 450, \"Ulti\": \"Chiến Binh Sơn Cước\"},\n",
        "    {\"price\": 450, \"Ulti\": \"Công Lý Demacia\"},\n",
        "    {\"price\": 1350, \"Ulti\": \"Từ Chối Tử Thần\"}\n",
        "]\n",
        "\n",
        "dct = {}\n",
        "\n",
        "for key in championLOL:\n",
        "  for value in dataLOL:\n",
        "    dct[key] = value\n",
        "print(f\"dictionary base on data: {dct}\")\n",
        "s = input()\n",
        "if s in championLOL:\n",
        "  print(f\"price: {dct[s]['price']}\")\n",
        "else:\n",
        "  print(\" can not find\")"
      ],
      "metadata": {
        "id": "Qv1ZYOQzzjrz"
      },
      "execution_count": null,
      "outputs": []
    },
    {
      "cell_type": "code",
      "source": [
        "#Bai9:\n",
        "\n",
        "import random\n",
        "\n",
        "n = int(input())\n",
        "accounts = {}\n",
        "for i in range(n):\n",
        "  if i<9:\n",
        "    student_id = f\"202160000{i + 1}\"\n",
        "  elif i<99:\n",
        "    student_id = f\"20216000{i + 1}\"\n",
        "  elif i<999:\n",
        "    student_id = f\"2021600{i + 1}\"\n",
        "  elif i<9999:\n",
        "    student_id = f\"202160{i + 1}\"\n",
        "  elif i<99999:\n",
        "    student_id = f\"20216{i + 1}\"\n",
        "  password = random.choice([\"CNTT\", \"KHMT\", \"KTPM\", \"HTTT\"]) + student_id\n",
        "  account = {\n",
        "      \"Username\": student_id,\n",
        "      \"Password\": password,\n",
        "  }\n",
        "  accounts[f\"Account {i + 1}\"] = account\n",
        "\n",
        "print(accounts)\n"
      ],
      "metadata": {
        "id": "C86rRfAr5y3b"
      },
      "execution_count": null,
      "outputs": []
    }
  ]
}