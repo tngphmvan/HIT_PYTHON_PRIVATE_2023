{
  "nbformat": 4,
  "nbformat_minor": 0,
  "metadata": {
    "colab": {
      "provenance": [],
      "authorship_tag": "ABX9TyMfddpE0XEs5liDLiEBA6sn",
      "include_colab_link": true
    },
    "kernelspec": {
      "name": "python3",
      "display_name": "Python 3"
    },
    "language_info": {
      "name": "python"
    }
  },
  "cells": [
    {
      "cell_type": "markdown",
      "metadata": {
        "id": "view-in-github",
        "colab_type": "text"
      },
      "source": [
        "<a href=\"https://colab.research.google.com/github/tngphmvan/HIT_PYTHON_PRIVATE_2023/blob/main/buoi4_hit_python_private.ipynb\" target=\"_parent\"><img src=\"https://colab.research.google.com/assets/colab-badge.svg\" alt=\"Open In Colab\"/></a>"
      ]
    },
    {
      "cell_type": "markdown",
      "source": [
        "* Ôn tập kiến thức 3 buổi trc\n",
        "\n",
        "Lưu ý sử dụng biến imutable và imutable\n",
        "\n",
        "match case giống swicth case\n",
        "\n",
        "toán tử 3 ngôi: true value exp false value\n",
        "\n",
        "* Kiến thức buổi 4:\n",
        "\n",
        "1. String\n",
        "\n",
        "String là 1 imutable\n",
        "\n",
        "ví dụ: str = 'Toi la Vu', \"Tien's friend\"\n",
        "\n",
        "tạo nên bởi bảng mẵ unicode\n",
        "\n",
        "Khi dùng bảng mã unicode, ta sử dụng bằng cáchcộng hàng với cột theo hệ 16"
      ],
      "metadata": {
        "id": "JMoVn99m8236"
      }
    },
    {
      "cell_type": "code",
      "source": [
        "print('\\u00D2')\n",
        "# 00D2 = 00C0(row) + 12(column)"
      ],
      "metadata": {
        "id": "9Dde19wb_hch"
      },
      "execution_count": null,
      "outputs": []
    },
    {
      "cell_type": "markdown",
      "source": [
        "Escape sequence\n",
        "\n",
        "\\a phát ra tiếng beep\n",
        "\n",
        "\\b xóa ký tự trc nó\n",
        "\n",
        "\\n xuống dòng\n",
        "\n",
        "\\t thụt 1 tab\n",
        "\n",
        "\\' in ra '\n",
        "\n",
        "\\\" in ra \"\n",
        "\n",
        "\\\\ in ra \\\\\n",
        "\n",
        "\\v in vertical tab ( xuống dòng )\n"
      ],
      "metadata": {
        "id": "djBwylN1BIeA"
      }
    },
    {
      "cell_type": "code",
      "source": [
        "print('Pham \\v Van Tung')"
      ],
      "metadata": {
        "colab": {
          "base_uri": "https://localhost:8080/"
        },
        "id": "s7iTnssrBqo5",
        "outputId": "d824531a-1133-40e0-f7e2-e613aface9b6"
      },
      "execution_count": 5,
      "outputs": [
        {
          "output_type": "stream",
          "name": "stdout",
          "text": [
            "Pham \u000b Van Tung\n"
          ]
        }
      ]
    },
    {
      "cell_type": "markdown",
      "source": [
        "Chuỗi trần sẽ bỏ qua escape sequence\n",
        "\n",
        "r\"nộidungchuoi\""
      ],
      "metadata": {
        "id": "NBr7lZ9lCI2n"
      }
    },
    {
      "cell_type": "code",
      "source": [
        "done = \"D : \\Hit\\btvn\"\n",
        "print(done)\n",
        "s=r\"D : \\Hit\\btvn\"\n",
        "print(s)"
      ],
      "metadata": {
        "colab": {
          "base_uri": "https://localhost:8080/"
        },
        "id": "Uc7EQw0dCjNv",
        "outputId": "f0573b24-51d9-4b59-b3c7-f98ca73ddf07"
      },
      "execution_count": 6,
      "outputs": [
        {
          "output_type": "stream",
          "name": "stdout",
          "text": [
            "D : \\Hit\btvn\n",
            "D : \\Hit\\btvn\n"
          ]
        }
      ]
    },
    {
      "cell_type": "markdown",
      "source": [
        "Định dạng chuỗi\n",
        "\n",
        "phương thức format() cho phép tùy chọn định dạng chuỗi\n",
        "\n",
        "< string >.format(< gt1 >,< gt2 >,...)\n",
        "\n",
        "Giữ chỗ:   {}, {0}, {1}, …\n",
        "\n",
        "Căn lề:   {:<}, {:^}, {:>}\n",
        "\n",
        "Định dạng số:   {0:b}, {0:e}, {0:o} {0:.3f} binary, số mũ, octal, hệ 16\n"
      ],
      "metadata": {
        "id": "wE9_eBCTC3DX"
      }
    },
    {
      "cell_type": "markdown",
      "source": [
        "Truy xuất các kỹ tự trong 1 chuỗi:\n",
        "\n",
        "index dương đánh số từ 0 đến len(s) - 1\n",
        "\n",
        "index âm đánh số từ -len(s) đến -1\n",
        "\n",
        "* kỹ thuật Slicing: <Chuỗi>[vị trí bắt đầu : vị trí dừng: step]\n",
        "\n",
        "1 số phương thức xử lý chuỗi:\n",
        "\n"
      ],
      "metadata": {
        "id": "1yVFhQrsDqmv"
      }
    },
    {
      "cell_type": "code",
      "source": [
        "s1 = \"Pham VanTung \"\n",
        "lst = s1.split()\n",
        "print(s1.split(\" \"))\n",
        "\n",
        "print(\"hit\".join(lst))"
      ],
      "metadata": {
        "colab": {
          "base_uri": "https://localhost:8080/"
        },
        "id": "4GM4tKt8FsEH",
        "outputId": "59060c29-a214-4a0c-d0c2-9d8e8e65cd52"
      },
      "execution_count": 12,
      "outputs": [
        {
          "output_type": "stream",
          "name": "stdout",
          "text": [
            "['Pham', 'VanTung', '']\n",
            "PhamhitVanTung\n"
          ]
        }
      ]
    },
    {
      "cell_type": "code",
      "source": [
        "#bai tap tren lop:\n",
        "\n",
        "s=\"Pham Van Tung 1211215    usdfhdfsgjfs dfshdfsghdfshu bnsdf  dfs dfs sdfgysdfgsdfhjdfskjdfslkjds        sdfkhudfshsdfhshdfkkhdfs\"\n",
        "\n",
        "sa = s.split()\n",
        "\n",
        "sa1 = \" \".join(sa)\n",
        "\n",
        "print(len(sa1.split()))\n"
      ],
      "metadata": {
        "id": "5HrIj1S1MC87"
      },
      "execution_count": null,
      "outputs": []
    },
    {
      "cell_type": "markdown",
      "source": [
        "2.  List\n",
        "\n",
        "Cấu trúc để lưu trữ một dãy các phần tử\n",
        "\n",
        "Cho phép chứa các phần tử thuộc nhiều kiểu dữ liệu khác nhau trong cùng 1 list\n",
        "(thậm chí chứa chính list) điều này là khác biệt so với cpp\n",
        "\n",
        "List là Mutable (khả biến)...có thể thay đổi\n",
        "\n",
        "* List comprehension\n",
        "* Nested list: Trải phẳng list\n",
        "* List comprehension với mệnh đề if\n",
        "* Truy xuất các phần tử trong 1 list (sử dụng slicing)\n",
        "\n",
        "index dương và index âm như string\n",
        "\n",
        "index của nested list: a[1][2]\n",
        "\n",
        "Slicing (Cắt): Chúng ta có thể liệt kê một loạt các phần tử liên tiếp trong list bằng cách sử dụng toán tử slicing:\n",
        "\n",
        "  [strart : stop : step]\n",
        "\n",
        "\n",
        "Mặc định: start = 0 stop = len(list), - 1, step = 1\n",
        "\n",
        "* Đảo ngược list\n",
        "\n",
        "\n"
      ],
      "metadata": {
        "id": "fTgbNXSDNux8"
      }
    },
    {
      "cell_type": "code",
      "source": [
        "l = [1, 2, 3, 4]\n",
        "l1 = l[::-1]\n",
        "# l1 = [4, 3, 2, 1]\n",
        "\n",
        "print(l1)"
      ],
      "metadata": {
        "colab": {
          "base_uri": "https://localhost:8080/"
        },
        "id": "HIENFlVGTVni",
        "outputId": "6e70b27d-47ff-471d-9b07-73d9a218232f"
      },
      "execution_count": 20,
      "outputs": [
        {
          "output_type": "stream",
          "name": "stdout",
          "text": [
            "[4, 3, 2, 1]\n"
          ]
        }
      ]
    },
    {
      "cell_type": "markdown",
      "source": [
        "* chèn,sửa, xóa nhiều phần tử trong list\n"
      ],
      "metadata": {
        "id": "AYri93lFTguB"
      }
    },
    {
      "cell_type": "code",
      "source": [
        "#giao trinh\n",
        "l = [1, 2, 3, 4]\n",
        "# sưa\n",
        "l[1:] = [10, 9, 8]\n",
        "# l = [1, 10, 9, 8]\n",
        "# chèn\n",
        "l[: -3] = [10, 9, 8]\n",
        "# l =[10, 9, 8, 10, 9, 8]\n",
        "# xóa\n",
        "l[:] = []\n",
        "# 1 = []"
      ],
      "metadata": {
        "id": "PSfHCwPcTlX8"
      },
      "execution_count": 22,
      "outputs": []
    },
    {
      "cell_type": "code",
      "source": [
        "#giang\n",
        "\n",
        "l = [1,2,3,4,5,6]\n",
        "#[1,1,5,6]\n",
        "l[1:4] = [1]\n",
        "\n",
        "print(l)"
      ],
      "metadata": {
        "colab": {
          "base_uri": "https://localhost:8080/"
        },
        "id": "M_Hy3hNVT_Qq",
        "outputId": "5a90c52e-d291-467e-bc7f-1d8825fe28d1"
      },
      "execution_count": 25,
      "outputs": [
        {
          "output_type": "stream",
          "name": "stdout",
          "text": [
            "[1, 1, 5, 6]\n"
          ]
        }
      ]
    },
    {
      "cell_type": "markdown",
      "source": [
        "* clone vs copy\n",
        "\n",
        "clone thì 2 biến cùng tham chiếu đến 1 ô nhớ\n",
        "\n",
        "copy thì"
      ],
      "metadata": {
        "id": "eBkhEvugU83h"
      }
    },
    {
      "cell_type": "code",
      "source": [
        "oldlist=[1,2,3]\n",
        "newlist = [1,2,3]\n",
        "#2 cái new vs old cùng trỏ đến cùng 1 ô nhớ\n",
        "\n",
        "str = \"hit\"\n",
        "strcopy = \"hit\"\n",
        "print (id (newlist))\n",
        "print(id(oldlist))\n",
        "print (id(str))\n",
        "print(id(strcopy))"
      ],
      "metadata": {
        "colab": {
          "base_uri": "https://localhost:8080/"
        },
        "id": "lx_54fjHVTl2",
        "outputId": "178e2e32-af9b-444b-8b15-ec035dba0a18"
      },
      "execution_count": 32,
      "outputs": [
        {
          "output_type": "stream",
          "name": "stdout",
          "text": [
            "136686354642496\n",
            "136685361032448\n",
            "136686606955184\n",
            "136686606955184\n"
          ]
        }
      ]
    }
  ]
}