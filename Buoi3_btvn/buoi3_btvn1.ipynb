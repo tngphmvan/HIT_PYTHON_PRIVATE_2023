{
 "cells": [
  {
   "cell_type": "code",
   "execution_count": null,
   "metadata": {},
   "outputs": [],
   "source": [
    "#nhap vao toa do 3 diem\n",
    "x1=int(input())\n",
    "x2=int(input())\n",
    "\n",
    "y1=int(input())\n",
    "y2=int(input())\n",
    "\n",
    "z1=int(input())\n",
    "z2=int(input())\n",
    "\n",
    "#tinh do dai cac canh \n",
    "a=(x1*x1+x2*x2)**0.5\n",
    "b=(y1**2+y2**2)**0.5\n",
    "c=(z1**2+z2**2)**0.5\n",
    "\n",
    "if a+b>=c or a+c>=b or b+c>=a:\n",
    "    print(\"Tam giac\")\n",
    "else:\n",
    "    print(\"kp tam giac\")"
   ]
  }
 ],
 "metadata": {
  "language_info": {
   "name": "python"
  }
 },
 "nbformat": 4,
 "nbformat_minor": 2
}
