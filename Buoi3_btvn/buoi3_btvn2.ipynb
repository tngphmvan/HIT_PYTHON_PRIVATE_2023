{
  "nbformat": 4,
  "nbformat_minor": 0,
  "metadata": {
    "colab": {
      "provenance": []
    },
    "kernelspec": {
      "name": "python3",
      "display_name": "Python 3"
    },
    "language_info": {
      "name": "python"
    }
  },
  "cells": [
    {
      "cell_type": "code",
      "execution_count": 13,
      "metadata": {
        "id": "5N_yrvc7G1qR",
        "colab": {
          "base_uri": "https://localhost:8080/"
        },
        "outputId": "b37ac931-f9b6-409b-cf02-886928b73c98"
      },
      "outputs": [
        {
          "output_type": "stream",
          "name": "stdout",
          "text": [
            "2\n",
            "3\n",
            "123456\n",
            "123654\n",
            "456789\n",
            "456987\n"
          ]
        }
      ],
      "source": [
        "n = int(input())\n",
        "while n < 2 or n > 100:\n",
        "    n = int(input())\n",
        "\n",
        "m = int(input())\n",
        "while m < 3:\n",
        "    m = int(input())\n",
        "\n",
        "i = 0\n",
        "while i < n:\n",
        "    j = input()\n",
        "    if len(j) % 10 < 6:\n",
        "        print(\"Input number must have at least 6 digits.\")\n",
        "    else:\n",
        "        rev = j[-m:]\n",
        "        print(j[0:m]+rev[::-1])\n",
        "    i += 1\n",
        "\n"
      ]
    }
  ]
}