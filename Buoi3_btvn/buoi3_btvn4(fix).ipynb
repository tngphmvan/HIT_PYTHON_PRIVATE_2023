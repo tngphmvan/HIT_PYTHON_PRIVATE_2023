{
  "nbformat": 4,
  "nbformat_minor": 0,
  "metadata": {
    "colab": {
      "provenance": []
    },
    "kernelspec": {
      "name": "python3",
      "display_name": "Python 3"
    },
    "language_info": {
      "name": "python"
    }
  },
  "cells": [
    {
      "cell_type": "code",
      "execution_count": null,
      "metadata": {
        "id": "KiUhteq24Z65"
      },
      "outputs": [],
      "source": [
        "n = int(input())\n",
        "flag = False\n",
        "i = len(str(n)) - 1\n",
        "\n",
        "if n==1:\n",
        "  flag = True\n",
        "else:\n",
        "  while i >= 0:\n",
        "      digit = int(str(n)[i])\n",
        "      digit_previous = int(str(n)[i - 1])\n",
        "      if digit == digit_previous + 1 or digit == digit_previous:\n",
        "          flag = True\n",
        "          break\n",
        "      i -= 1\n",
        "if flag:\n",
        "    print(\"No\")\n",
        "else:\n",
        "    print(\"Yes\")"
      ]
    },
    {
      "cell_type": "markdown",
      "source": [
        "Nếu mỗi loại mệnh giá chỉ được mua 1 lần và có thể mua nhiều hàng mệnh giá khác nhau\n",
        "\n",
        "=> Số sau phải bằng hoặc lớn hơn số trước 1 đơn vị"
      ],
      "metadata": {
        "id": "p6xEzdPT-g6i"
      }
    }
  ]
}