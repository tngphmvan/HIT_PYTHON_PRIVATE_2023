{
  "nbformat": 4,
  "nbformat_minor": 0,
  "metadata": {
    "colab": {
      "provenance": []
    },
    "kernelspec": {
      "name": "python3",
      "display_name": "Python 3"
    },
    "language_info": {
      "name": "python"
    }
  },
  "cells": [
    {
      "cell_type": "code",
      "execution_count": null,
      "metadata": {
        "id": "tSLsiM09sSQb"
      },
      "outputs": [],
      "source": [
        "\n",
        "k = int(input())\n",
        "\n",
        "students = []\n",
        "for i in range(k):\n",
        "    students.append([])\n",
        "\n",
        "for i in range(k):\n",
        "    students[i].append(input())\n",
        "    students[i].append(int(input()))\n",
        "    students[i].append(int(input()))\n",
        "\n",
        "\n",
        "for i in range(k):\n",
        "    total_score = students[i][1] + students[i][2]\n",
        "    if total_score >= 190:\n",
        "        students[i].append(\"Xuất sắc\")\n",
        "    elif total_score >= 150:\n",
        "        students[i].append(\"Giỏi\")\n",
        "    elif total_score >= 100:\n",
        "        students[i].append(\"Khá\")\n",
        "    else:\n",
        "        students[i].append(\"Yếu\")\n",
        "\n",
        "for i in range(k):\n",
        "    print(i + 1,end = ' ')\n",
        "    print(students[i][0],end = ' ')\n",
        "    print(total_score, end = ' ')\n",
        "    print(students[i][3])\n"
      ]
    }
  ]
}