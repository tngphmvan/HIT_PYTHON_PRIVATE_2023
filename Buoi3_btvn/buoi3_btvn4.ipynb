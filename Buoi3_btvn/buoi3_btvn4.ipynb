{
  "nbformat": 4,
  "nbformat_minor": 0,
  "metadata": {
    "colab": {
      "provenance": []
    },
    "kernelspec": {
      "name": "python3",
      "display_name": "Python 3"
    },
    "language_info": {
      "name": "python"
    }
  },
  "cells": [
    {
      "cell_type": "code",
      "source": [
        "n = int(input())\n",
        "flag = False\n",
        "i = len(str(n)) - 1\n",
        "\n",
        "if n==1:\n",
        "  flag = True\n",
        "else:\n",
        "  if str(n)[0]!='1':\n",
        "    flag = False\n",
        "  else:\n",
        "    while i >= 0:\n",
        "        digit = int(str(n)[i])\n",
        "        digit_previous = int(str(n)[i - 1])\n",
        "        if digit == digit_previous + 1 or digit == digit_previous:\n",
        "            flag = True\n",
        "            break\n",
        "        i -= 1\n",
        "if flag:\n",
        "    print(\"No\")\n",
        "else:\n",
        "    print(\"Yes\")"
      ],
      "metadata": {
        "id": "j2GAFSYUGpCM"
      },
      "execution_count": null,
      "outputs": []
    }
  ]
}