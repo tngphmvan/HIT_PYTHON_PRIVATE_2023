{
  "nbformat": 4,
  "nbformat_minor": 0,
  "metadata": {
    "colab": {
      "provenance": [],
      "authorship_tag": "ABX9TyMHzGapNnXJC7HerXF2SI+s",
      "include_colab_link": true
    },
    "kernelspec": {
      "name": "python3",
      "display_name": "Python 3"
    },
    "language_info": {
      "name": "python"
    }
  },
  "cells": [
    {
      "cell_type": "markdown",
      "metadata": {
        "id": "view-in-github",
        "colab_type": "text"
      },
      "source": [
        "<a href=\"https://colab.research.google.com/github/tngphmvan/HIT_PYTHON_PRIVATE_2023/blob/main/buoi2.ipynb\" target=\"_parent\"><img src=\"https://colab.research.google.com/assets/colab-badge.svg\" alt=\"Open In Colab\"/></a>"
      ]
    },
    {
      "cell_type": "markdown",
      "source": [],
      "metadata": {
        "id": "BTtSPGHh4Zgv"
      }
    },
    {
      "cell_type": "markdown",
      "source": [
        "1. Biến là gì?\n",
        "* Biến là 1 đối tượng\n",
        " - Địa chỉ: id() là build in function.\n",
        " - Giá trị:\n",
        " - Kiểu dữ liệu: type()\n",
        "* mutable and imutable:\n",
        "  - imutable:\n",
        "    + không thể thay đổi vùng nhớ.\n",
        "    + number, string, tuple.\n",
        "  - mutable:\n",
        "    + Có thể thay đổi vùng nhớ.\n",
        "    + list, dictionary, set.\n",
        "\n",
        "  (chú ý kiểu sequence sẽ học )\n",
        "\n",
        "2. các loại kiểu dữ liệu\n",
        "\n",
        "  - Những kiểu dữ liệu trong pyth\n",
        "    + sequence : String, List, Tuple, Dictionary.\n",
        "    + number :\n",
        "\n",
        "       + traction(phân số)\n",
        "       + complex (số phức)\n",
        "       vd : nhập vào số phức từ bàn phím:\n",
        "        \n",
        "\n"
      ],
      "metadata": {
        "id": "vcfJeZ7H5sXE"
      }
    },
    {
      "cell_type": "code",
      "source": [
        "a = complex(map(int, input().split()))\n",
        "b = complex(int(input()), int(input()))\n",
        "print(a,b)"
      ],
      "metadata": {
        "colab": {
          "base_uri": "https://localhost:8080/",
          "height": 228
        },
        "id": "MVoNElnn8Ooj",
        "outputId": "63991368-8f39-4cb6-b02e-7e2c92befd1f"
      },
      "execution_count": 2,
      "outputs": [
        {
          "name": "stdout",
          "output_type": "stream",
          "text": [
            "3 5\n"
          ]
        },
        {
          "output_type": "error",
          "ename": "TypeError",
          "evalue": "ignored",
          "traceback": [
            "\u001b[0;31m---------------------------------------------------------------------------\u001b[0m",
            "\u001b[0;31mTypeError\u001b[0m                                 Traceback (most recent call last)",
            "\u001b[0;32m<ipython-input-2-909f8f13b701>\u001b[0m in \u001b[0;36m<cell line: 1>\u001b[0;34m()\u001b[0m\n\u001b[0;32m----> 1\u001b[0;31m \u001b[0ma\u001b[0m \u001b[0;34m=\u001b[0m \u001b[0mcomplex\u001b[0m\u001b[0;34m(\u001b[0m\u001b[0mmap\u001b[0m\u001b[0;34m(\u001b[0m\u001b[0mint\u001b[0m\u001b[0;34m,\u001b[0m \u001b[0minput\u001b[0m\u001b[0;34m(\u001b[0m\u001b[0;34m)\u001b[0m\u001b[0;34m.\u001b[0m\u001b[0msplit\u001b[0m\u001b[0;34m)\u001b[0m\u001b[0;34m)\u001b[0m\u001b[0;34m\u001b[0m\u001b[0;34m\u001b[0m\u001b[0m\n\u001b[0m\u001b[1;32m      2\u001b[0m \u001b[0mb\u001b[0m \u001b[0;34m=\u001b[0m \u001b[0mcomplex\u001b[0m\u001b[0;34m(\u001b[0m\u001b[0mint\u001b[0m\u001b[0;34m(\u001b[0m\u001b[0minput\u001b[0m\u001b[0;34m(\u001b[0m\u001b[0;34m)\u001b[0m\u001b[0;34m)\u001b[0m\u001b[0;34m,\u001b[0m \u001b[0mint\u001b[0m\u001b[0;34m(\u001b[0m\u001b[0minput\u001b[0m\u001b[0;34m(\u001b[0m\u001b[0;34m)\u001b[0m\u001b[0;34m)\u001b[0m\u001b[0;34m)\u001b[0m\u001b[0;34m\u001b[0m\u001b[0;34m\u001b[0m\u001b[0m\n\u001b[1;32m      3\u001b[0m \u001b[0mprint\u001b[0m\u001b[0;34m(\u001b[0m\u001b[0ma\u001b[0m\u001b[0;34m,\u001b[0m\u001b[0mb\u001b[0m\u001b[0;34m)\u001b[0m\u001b[0;34m\u001b[0m\u001b[0;34m\u001b[0m\u001b[0m\n",
            "\u001b[0;31mTypeError\u001b[0m: 'builtin_function_or_method' object is not iterable"
          ]
        }
      ]
    },
    {
      "cell_type": "markdown",
      "source": [
        "chú ý: (int python version x)\n",
        "\n",
        "* đối với traction phải import thư viện fraction\n"
      ],
      "metadata": {
        "id": "YMVapljf9EXj"
      }
    },
    {
      "cell_type": "code",
      "source": [
        "from fractions import * # lấy toàn bộ nội dung của thư viện decimal\n",
        "Fraction(1, 4)   # phân số với tử số là 1, mẫu số là 4.\n",
        "Fraction(1, 4)\n",
        "Fraction(3, 9)  # phân số sẽ được tối giản nếu có thể\n",
        "Fraction(1, 3)\n",
        "type(Fraction(3, 4))  # các phân số thuộc lớp Fraction\n",
        "# <class 'fractions.Fraction'>\n"
      ],
      "metadata": {
        "colab": {
          "base_uri": "https://localhost:8080/"
        },
        "id": "yemadogc_Nhi",
        "outputId": "0737002e-6bd4-45f7-8302-e42a205da153"
      },
      "execution_count": 7,
      "outputs": [
        {
          "output_type": "execute_result",
          "data": {
            "text/plain": [
              "fractions.Fraction"
            ]
          },
          "metadata": {},
          "execution_count": 7
        }
      ]
    },
    {
      "cell_type": "code",
      "source": [
        "a = 5\n",
        "print(id(a))\n",
        "print(type(a))\n",
        "print(2/3)\n",
        "b = complex(int(input()),int(input()))\n",
        "# c = complex(list(map(int, input(),split())))\n",
        "print(b, type(b))\n",
        "from fractions import Fraction\n",
        "d=Fraction(1,2)\n",
        "print(d,type(d))\n",
        "# print(Fraction(int(input()),int(input())))"
      ],
      "metadata": {
        "colab": {
          "base_uri": "https://localhost:8080/"
        },
        "id": "5674EsyR_rDK",
        "outputId": "c1d77ad2-69cd-4825-87df-c16a39e12121"
      },
      "execution_count": 10,
      "outputs": [
        {
          "output_type": "stream",
          "name": "stdout",
          "text": [
            "136906240737648\n",
            "<class 'int'>\n",
            "0.6666666666666666\n",
            "1\n",
            "2\n",
            "(1+2j) <class 'complex'>\n",
            "1/2 <class 'fractions.Fraction'>\n"
          ]
        }
      ]
    },
    {
      "cell_type": "markdown",
      "source": [
        "3. các toán tử\n",
        "* các toán tử thành viên\n",
        "* toán tử thành viên:\n",
        "\n",
        "   in\n",
        "\n",
        "    - Trả về true nếu biến đó ở trong một chuỗi, list,… chỉ định.\n",
        "\n",
        "  not in\n",
        "\n",
        "    - ngược lại với in\n",
        "\n",
        "* toán tử gán\n",
        "  - := assigment expresstion\n"
      ],
      "metadata": {
        "id": "ymelA1YSBd7i"
      }
    },
    {
      "cell_type": "code",
      "source": [
        "# print(a=6) k chạy đc\n",
        "print(a:=6)\n",
        "b = 5\n",
        "print(b:=b+1) #sẽ in ra 6"
      ],
      "metadata": {
        "id": "zJY14RApBryw"
      },
      "execution_count": null,
      "outputs": []
    },
    {
      "cell_type": "markdown",
      "source": [
        "* module math có hàm trunc trả về phần nguyên\n",
        "\n",
        "(lưu ý về sự khác biệt giữa ceil, floor và trunc)"
      ],
      "metadata": {
        "id": "4s5dxKHmFfg5"
      }
    },
    {
      "cell_type": "code",
      "source": [
        "import math\n",
        "\n",
        "x=-1.555555555\n",
        "\n",
        "print(math.trunc(x)) #trả về phần nguyên\n",
        "print(math.floor(x)) #trả về phần làm tròn xuống\n",
        "math.lcm()\n",
        "math.gcd()\n",
        "math.sqrt()\n",
        "math.fabs()"
      ],
      "metadata": {
        "colab": {
          "base_uri": "https://localhost:8080/"
        },
        "id": "e-_bhXdIFjmI",
        "outputId": "b8ccbe43-eb06-4e64-deb1-fea3689728d7"
      },
      "execution_count": 11,
      "outputs": [
        {
          "output_type": "stream",
          "name": "stdout",
          "text": [
            "-1\n",
            "-2\n"
          ]
        }
      ]
    },
    {
      "cell_type": "markdown",
      "source": [
        "conventional commit\n",
        "git commit -m \"fix(main/read)\""
      ],
      "metadata": {
        "id": "mcGnHBzAJLg4"
      }
    },
    {
      "cell_type": "code",
      "source": [
        "git commit -m\""
      ],
      "metadata": {
        "id": "u1-CEnVtJOAw"
      },
      "execution_count": null,
      "outputs": []
    }
  ]
}